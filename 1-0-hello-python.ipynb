{
 "cells": [
  {
   "cell_type": "markdown",
   "id": "c1a35ff3",
   "metadata": {
    "papermill": {
     "duration": 0.00393,
     "end_time": "2023-03-28T10:26:23.731263",
     "exception": false,
     "start_time": "2023-03-28T10:26:23.727333",
     "status": "completed"
    },
    "tags": []
   },
   "source": [
    "## Python\n",
    "Python was conceived by Guido Van Rossum. Here, you can see a photo of me with Guido. What started as a hobby project, soon became a general purpose programming language: nowadays, you can use Python to build practically any piece of software. But how did this happen? Well, first of all, Python is open source. It's free to use. Second, it's very easy to build packages in Python, which is code that you can share with other people to solve specific problems."
   ]
  },
  {
   "cell_type": "markdown",
   "id": "835302eb",
   "metadata": {
    "papermill": {
     "duration": 0.002529,
     "end_time": "2023-03-28T10:26:23.736979",
     "exception": false,
     "start_time": "2023-03-28T10:26:23.734450",
     "status": "completed"
    },
    "tags": []
   },
   "source": [
    "### Get coding and don't forget to have fun!\n",
    "\n",
    "In the Python script, you can type Python code to solve the exercises."
   ]
  },
  {
   "cell_type": "code",
   "execution_count": 1,
   "id": "7a6517ae",
   "metadata": {
    "execution": {
     "iopub.execute_input": "2023-03-28T10:26:23.745401Z",
     "iopub.status.busy": "2023-03-28T10:26:23.744481Z",
     "iopub.status.idle": "2023-03-28T10:26:23.759785Z",
     "shell.execute_reply": "2023-03-28T10:26:23.757887Z"
    },
    "papermill": {
     "duration": 0.025094,
     "end_time": "2023-03-28T10:26:23.764887",
     "exception": false,
     "start_time": "2023-03-28T10:26:23.739793",
     "status": "completed"
    },
    "tags": []
   },
   "outputs": [
    {
     "name": "stdout",
     "output_type": "stream",
     "text": [
      "0.625\n",
      "17\n"
     ]
    }
   ],
   "source": [
    "# Example, do not modify!\n",
    "print(5 / 8)\n",
    "\n",
    "# Print the sum of 7 and 10\n",
    "print(7+10)"
   ]
  },
  {
   "cell_type": "markdown",
   "id": "54cd20ca",
   "metadata": {
    "papermill": {
     "duration": 0.002881,
     "end_time": "2023-03-28T10:26:23.771177",
     "exception": false,
     "start_time": "2023-03-28T10:26:23.768296",
     "status": "completed"
    },
    "tags": []
   },
   "source": [
    "## When to use Python?\n",
    "Python is a pretty versatile language. For which applications can you use Python?"
   ]
  },
  {
   "cell_type": "markdown",
   "id": "d03d417f",
   "metadata": {
    "papermill": {
     "duration": 0.002682,
     "end_time": "2023-03-28T10:26:23.776783",
     "exception": false,
     "start_time": "2023-03-28T10:26:23.774101",
     "status": "completed"
    },
    "tags": []
   },
   "source": [
    "\n",
    "i. You want to do some quick calculations.\n",
    "\n",
    "ii. For your new business, you want to develop a database-driven website.\n",
    "\n",
    "iii. Your boss asks you to clean and analyze the results of the latest satisfaction survey."
   ]
  },
  {
   "cell_type": "markdown",
   "id": "8fdd7903",
   "metadata": {
    "papermill": {
     "duration": 0.002649,
     "end_time": "2023-03-28T10:26:23.782381",
     "exception": false,
     "start_time": "2023-03-28T10:26:23.779732",
     "status": "completed"
    },
    "tags": []
   },
   "source": [
    "To add comments to your Python script, you can use the # tag. These comments are not run as Python code, so they will not influence your result. As an example, take the comment in the editor, # Division; it is completely ignored during execution."
   ]
  },
  {
   "cell_type": "code",
   "execution_count": 2,
   "id": "d316e796",
   "metadata": {
    "execution": {
     "iopub.execute_input": "2023-03-28T10:26:23.791368Z",
     "iopub.status.busy": "2023-03-28T10:26:23.790386Z",
     "iopub.status.idle": "2023-03-28T10:26:23.798363Z",
     "shell.execute_reply": "2023-03-28T10:26:23.796671Z"
    },
    "papermill": {
     "duration": 0.01642,
     "end_time": "2023-03-28T10:26:23.801748",
     "exception": false,
     "start_time": "2023-03-28T10:26:23.785328",
     "status": "completed"
    },
    "tags": []
   },
   "outputs": [
    {
     "name": "stdout",
     "output_type": "stream",
     "text": [
      "0.625\n",
      "17\n"
     ]
    }
   ],
   "source": [
    "# Division\n",
    "print(5 / 8)\n",
    "\n",
    "#Addition\n",
    "print(7 + 10)"
   ]
  },
  {
   "cell_type": "markdown",
   "id": "799694f8",
   "metadata": {
    "papermill": {
     "duration": 0.003035,
     "end_time": "2023-03-28T10:26:23.808761",
     "exception": false,
     "start_time": "2023-03-28T10:26:23.805726",
     "status": "completed"
    },
    "tags": []
   },
   "source": [
    "## Python as a calculator\n",
    "Python is perfectly suited to do basic calculations. Apart from addition, subtraction, multiplication and division, there is also support for more advanced operations such as:"
   ]
  },
  {
   "cell_type": "markdown",
   "id": "d3b7de6d",
   "metadata": {
    "papermill": {
     "duration": 0.002899,
     "end_time": "2023-03-28T10:26:23.814954",
     "exception": false,
     "start_time": "2023-03-28T10:26:23.812055",
     "status": "completed"
    },
    "tags": []
   },
   "source": [
    "Exponentiation: **. This operator raises the number to its left to the power of the number to its right. For example 4**2 is 4 to the power of 2 and will give 16.\n",
    "Modulo: %. This operator returns the remainder of the division of the number to the left by the number on its right. For example 18 % 7 equals 4 because 7 fits into 18 twice, leaving you with a remainder of 4."
   ]
  },
  {
   "cell_type": "code",
   "execution_count": 3,
   "id": "3d9d6508",
   "metadata": {
    "execution": {
     "iopub.execute_input": "2023-03-28T10:26:23.823567Z",
     "iopub.status.busy": "2023-03-28T10:26:23.822554Z",
     "iopub.status.idle": "2023-03-28T10:26:23.829942Z",
     "shell.execute_reply": "2023-03-28T10:26:23.828920Z"
    },
    "papermill": {
     "duration": 0.014605,
     "end_time": "2023-03-28T10:26:23.832695",
     "exception": false,
     "start_time": "2023-03-28T10:26:23.818090",
     "status": "completed"
    },
    "tags": []
   },
   "outputs": [
    {
     "name": "stdout",
     "output_type": "stream",
     "text": [
      "10\n",
      "0\n",
      "15\n",
      "5.0\n",
      "4\n",
      "16\n",
      "32\n"
     ]
    }
   ],
   "source": [
    "# Addition, subtraction\n",
    "print(5 + 5)\n",
    "print(5 - 5)\n",
    "\n",
    "# Multiplication, division, modulo, and exponentiation\n",
    "print(3 * 5)\n",
    "print(10 / 2)\n",
    "print(18 % 7)\n",
    "print(4 ** 2)\n",
    "\n",
    "# Calculate two to the power of five\n",
    "print(2**5)"
   ]
  },
  {
   "cell_type": "code",
   "execution_count": null,
   "id": "f9e34e83",
   "metadata": {
    "papermill": {
     "duration": 0.003304,
     "end_time": "2023-03-28T10:26:23.839584",
     "exception": false,
     "start_time": "2023-03-28T10:26:23.836280",
     "status": "completed"
    },
    "tags": []
   },
   "outputs": [],
   "source": []
  }
 ],
 "metadata": {
  "kernelspec": {
   "display_name": "Python 3",
   "language": "python",
   "name": "python3"
  },
  "language_info": {
   "codemirror_mode": {
    "name": "ipython",
    "version": 3
   },
   "file_extension": ".py",
   "mimetype": "text/x-python",
   "name": "python",
   "nbconvert_exporter": "python",
   "pygments_lexer": "ipython3",
   "version": "3.7.12"
  },
  "papermill": {
   "default_parameters": {},
   "duration": 12.109811,
   "end_time": "2023-03-28T10:26:24.567501",
   "environment_variables": {},
   "exception": null,
   "input_path": "__notebook__.ipynb",
   "output_path": "__notebook__.ipynb",
   "parameters": {},
   "start_time": "2023-03-28T10:26:12.457690",
   "version": "2.4.0"
  }
 },
 "nbformat": 4,
 "nbformat_minor": 5
}
